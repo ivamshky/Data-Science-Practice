{
 "cells": [
  {
   "cell_type": "markdown",
   "metadata": {},
   "source": [
    "##  Stages of Exploring a Problem"
   ]
  },
  {
   "cell_type": "markdown",
   "metadata": {},
   "source": [
    "1. **Hypothesis Generation** : Underatanding the Problem by deciding possible factors which impact the Outcome.\n",
    "2. **Data Exploration** : Looking at data and making inferences about the data.\n",
    "3. **Data Cleaning** : Imputing missing values, checking for outliers and correcting/removing them.\n",
    "4. **Feature Engineering** : Modifying existing variables and creating new ones.\n",
    "5. **Model Building** : Making Predictive Models on data."
   ]
  },
  {
   "cell_type": "markdown",
   "metadata": {},
   "source": [
    "## 1. Hypothesis Generation"
   ]
  },
  {
   "cell_type": "markdown",
   "metadata": {},
   "source": [
    "### Store Level Hypothesis:\n",
    "1. **City Type** : Stores in Urban Areas have more sales.\n",
    "2. **Pupulation** : Stores located in densly Populated area will have more sales.\n",
    "3. **Store Capacity** : Big Size stores have more sales as they act like One-Stop-Stores and people prefer getting everything from one place.\n",
    "4. **Competitors** : Stores having Similar establishments will have less sales because of more competition.\n",
    "5. **Marketing** : Stores which have a good marketing division should have higher sales as it will be able to attract customers through the right offers and advertising.\n",
    "6. **Ambiance** : Stores which are well-maintained and managed by polite and humble people are expected to have higher footfall and thus higher sales.\n",
    "\n",
    "### Product Level Hypothesis:\n",
    "1. **Brand** : Branded products have more sale because of more trust in them.\n",
    "2. **Packaging** : Good Packaging can attract more customers.\n",
    "3. **Utility** : Daily use products have higher tendency to sell.\n",
    "4. **Display Area**: Products which are given bigger shelves in the store are likely to catch attention first and sell more.\n",
    "5. **Visibility in Store** : The location of product in a store will impact sales. Ones which are right at entrance will catch the eye of customer first rather than the ones in back.\n",
    "6. **Advertising** : Better advertising of products in the store will should higher sales in most cases.\n",
    "7. **Promotional Offers** : Products accompanied with attractive offers and discounts will sell more."
   ]
  },
  {
   "cell_type": "markdown",
   "metadata": {},
   "source": [
    "## 2. Data Exploration"
   ]
  },
  {
   "cell_type": "code",
   "execution_count": 1,
   "metadata": {},
   "outputs": [],
   "source": [
    "import pandas as pd\n",
    "import numpy as np\n",
    "import seaborn as sns\n",
    "sns.set(color_codes=True)\n",
    "import matplotlib.pyplot as plt\n",
    "from scipy.stats import mode\n",
    "%matplotlib inline"
   ]
  },
  {
   "cell_type": "code",
   "execution_count": 2,
   "metadata": {},
   "outputs": [],
   "source": [
    "train = pd.read_csv('train.csv')\n",
    "test = pd.read_csv('test.csv')\n",
    "train['source'] = 'train'\n",
    "test['source'] = 'test'\n",
    "data = pd.concat([train,test],ignore_index=True)"
   ]
  },
  {
   "cell_type": "code",
   "execution_count": 3,
   "metadata": {},
   "outputs": [
    {
     "name": "stdout",
     "output_type": "stream",
     "text": [
      "(8523, 13) (5681, 12) (14204, 13)\n"
     ]
    }
   ],
   "source": [
    "print train.shape, test.shape, data.shape"
   ]
  },
  {
   "cell_type": "code",
   "execution_count": 4,
   "metadata": {},
   "outputs": [
    {
     "data": {
      "text/plain": [
       "Item_Fat_Content                0\n",
       "Item_Identifier                 0\n",
       "Item_MRP                        0\n",
       "Item_Outlet_Sales            5681\n",
       "Item_Type                       0\n",
       "Item_Visibility                 0\n",
       "Item_Weight                  2439\n",
       "Outlet_Establishment_Year       0\n",
       "Outlet_Identifier               0\n",
       "Outlet_Location_Type            0\n",
       "Outlet_Size                  4016\n",
       "Outlet_Type                     0\n",
       "source                          0\n",
       "dtype: int64"
      ]
     },
     "execution_count": 4,
     "metadata": {},
     "output_type": "execute_result"
    }
   ],
   "source": [
    "data.apply(lambda x: sum(x.isnull()))"
   ]
  },
  {
   "cell_type": "markdown",
   "metadata": {},
   "source": [
    "`Item_Outlet_Sales` is the target variable of `test` data"
   ]
  },
  {
   "cell_type": "code",
   "execution_count": 5,
   "metadata": {},
   "outputs": [
    {
     "data": {
      "text/html": [
       "<div>\n",
       "<style>\n",
       "    .dataframe thead tr:only-child th {\n",
       "        text-align: right;\n",
       "    }\n",
       "\n",
       "    .dataframe thead th {\n",
       "        text-align: left;\n",
       "    }\n",
       "\n",
       "    .dataframe tbody tr th {\n",
       "        vertical-align: top;\n",
       "    }\n",
       "</style>\n",
       "<table border=\"1\" class=\"dataframe\">\n",
       "  <thead>\n",
       "    <tr style=\"text-align: right;\">\n",
       "      <th></th>\n",
       "      <th>Item_MRP</th>\n",
       "      <th>Item_Outlet_Sales</th>\n",
       "      <th>Item_Visibility</th>\n",
       "      <th>Item_Weight</th>\n",
       "      <th>Outlet_Establishment_Year</th>\n",
       "    </tr>\n",
       "  </thead>\n",
       "  <tbody>\n",
       "    <tr>\n",
       "      <th>count</th>\n",
       "      <td>14204.000000</td>\n",
       "      <td>8523.000000</td>\n",
       "      <td>14204.000000</td>\n",
       "      <td>11765.000000</td>\n",
       "      <td>14204.000000</td>\n",
       "    </tr>\n",
       "    <tr>\n",
       "      <th>mean</th>\n",
       "      <td>141.004977</td>\n",
       "      <td>2181.288914</td>\n",
       "      <td>0.065953</td>\n",
       "      <td>12.792854</td>\n",
       "      <td>1997.830681</td>\n",
       "    </tr>\n",
       "    <tr>\n",
       "      <th>std</th>\n",
       "      <td>62.086938</td>\n",
       "      <td>1706.499616</td>\n",
       "      <td>0.051459</td>\n",
       "      <td>4.652502</td>\n",
       "      <td>8.371664</td>\n",
       "    </tr>\n",
       "    <tr>\n",
       "      <th>min</th>\n",
       "      <td>31.290000</td>\n",
       "      <td>33.290000</td>\n",
       "      <td>0.000000</td>\n",
       "      <td>4.555000</td>\n",
       "      <td>1985.000000</td>\n",
       "    </tr>\n",
       "    <tr>\n",
       "      <th>25%</th>\n",
       "      <td>94.012000</td>\n",
       "      <td>834.247400</td>\n",
       "      <td>0.027036</td>\n",
       "      <td>8.710000</td>\n",
       "      <td>1987.000000</td>\n",
       "    </tr>\n",
       "    <tr>\n",
       "      <th>50%</th>\n",
       "      <td>142.247000</td>\n",
       "      <td>1794.331000</td>\n",
       "      <td>0.054021</td>\n",
       "      <td>12.600000</td>\n",
       "      <td>1999.000000</td>\n",
       "    </tr>\n",
       "    <tr>\n",
       "      <th>75%</th>\n",
       "      <td>185.855600</td>\n",
       "      <td>3101.296400</td>\n",
       "      <td>0.094037</td>\n",
       "      <td>16.750000</td>\n",
       "      <td>2004.000000</td>\n",
       "    </tr>\n",
       "    <tr>\n",
       "      <th>max</th>\n",
       "      <td>266.888400</td>\n",
       "      <td>13086.964800</td>\n",
       "      <td>0.328391</td>\n",
       "      <td>21.350000</td>\n",
       "      <td>2009.000000</td>\n",
       "    </tr>\n",
       "  </tbody>\n",
       "</table>\n",
       "</div>"
      ],
      "text/plain": [
       "           Item_MRP  Item_Outlet_Sales  Item_Visibility   Item_Weight  \\\n",
       "count  14204.000000        8523.000000     14204.000000  11765.000000   \n",
       "mean     141.004977        2181.288914         0.065953     12.792854   \n",
       "std       62.086938        1706.499616         0.051459      4.652502   \n",
       "min       31.290000          33.290000         0.000000      4.555000   \n",
       "25%       94.012000         834.247400         0.027036      8.710000   \n",
       "50%      142.247000        1794.331000         0.054021     12.600000   \n",
       "75%      185.855600        3101.296400         0.094037     16.750000   \n",
       "max      266.888400       13086.964800         0.328391     21.350000   \n",
       "\n",
       "       Outlet_Establishment_Year  \n",
       "count               14204.000000  \n",
       "mean                 1997.830681  \n",
       "std                     8.371664  \n",
       "min                  1985.000000  \n",
       "25%                  1987.000000  \n",
       "50%                  1999.000000  \n",
       "75%                  2004.000000  \n",
       "max                  2009.000000  "
      ]
     },
     "execution_count": 5,
     "metadata": {},
     "output_type": "execute_result"
    }
   ],
   "source": [
    "data.describe()"
   ]
  },
  {
   "cell_type": "markdown",
   "metadata": {},
   "source": [
    "`Item_Visibility` has minimum value of `0.0`. Though it's not possible because they are kept in stores which can't have none visibility.\n",
    "\n",
    "`Outlet_Establishment_Year` won't make much sense, can convert it into _How Old a Store is?_"
   ]
  },
  {
   "cell_type": "code",
   "execution_count": 6,
   "metadata": {},
   "outputs": [
    {
     "data": {
      "text/html": [
       "<div>\n",
       "<style>\n",
       "    .dataframe thead tr:only-child th {\n",
       "        text-align: right;\n",
       "    }\n",
       "\n",
       "    .dataframe thead th {\n",
       "        text-align: left;\n",
       "    }\n",
       "\n",
       "    .dataframe tbody tr th {\n",
       "        vertical-align: top;\n",
       "    }\n",
       "</style>\n",
       "<table border=\"1\" class=\"dataframe\">\n",
       "  <thead>\n",
       "    <tr style=\"text-align: right;\">\n",
       "      <th></th>\n",
       "      <th>Item_Fat_Content</th>\n",
       "      <th>Item_Identifier</th>\n",
       "      <th>Item_Type</th>\n",
       "      <th>Outlet_Identifier</th>\n",
       "      <th>Outlet_Location_Type</th>\n",
       "      <th>Outlet_Size</th>\n",
       "      <th>Outlet_Type</th>\n",
       "      <th>source</th>\n",
       "    </tr>\n",
       "  </thead>\n",
       "  <tbody>\n",
       "    <tr>\n",
       "      <th>count</th>\n",
       "      <td>14204</td>\n",
       "      <td>14204</td>\n",
       "      <td>14204</td>\n",
       "      <td>14204</td>\n",
       "      <td>14204</td>\n",
       "      <td>10188</td>\n",
       "      <td>14204</td>\n",
       "      <td>14204</td>\n",
       "    </tr>\n",
       "    <tr>\n",
       "      <th>unique</th>\n",
       "      <td>5</td>\n",
       "      <td>1559</td>\n",
       "      <td>16</td>\n",
       "      <td>10</td>\n",
       "      <td>3</td>\n",
       "      <td>3</td>\n",
       "      <td>4</td>\n",
       "      <td>2</td>\n",
       "    </tr>\n",
       "    <tr>\n",
       "      <th>top</th>\n",
       "      <td>Low Fat</td>\n",
       "      <td>NCK18</td>\n",
       "      <td>Fruits and Vegetables</td>\n",
       "      <td>OUT027</td>\n",
       "      <td>Tier 3</td>\n",
       "      <td>Medium</td>\n",
       "      <td>Supermarket Type1</td>\n",
       "      <td>train</td>\n",
       "    </tr>\n",
       "    <tr>\n",
       "      <th>freq</th>\n",
       "      <td>8485</td>\n",
       "      <td>10</td>\n",
       "      <td>2013</td>\n",
       "      <td>1559</td>\n",
       "      <td>5583</td>\n",
       "      <td>4655</td>\n",
       "      <td>9294</td>\n",
       "      <td>8523</td>\n",
       "    </tr>\n",
       "  </tbody>\n",
       "</table>\n",
       "</div>"
      ],
      "text/plain": [
       "       Item_Fat_Content Item_Identifier              Item_Type  \\\n",
       "count             14204           14204                  14204   \n",
       "unique                5            1559                     16   \n",
       "top             Low Fat           NCK18  Fruits and Vegetables   \n",
       "freq               8485              10                   2013   \n",
       "\n",
       "       Outlet_Identifier Outlet_Location_Type Outlet_Size        Outlet_Type  \\\n",
       "count              14204                14204       10188              14204   \n",
       "unique                10                    3           3                  4   \n",
       "top               OUT027               Tier 3      Medium  Supermarket Type1   \n",
       "freq                1559                 5583        4655               9294   \n",
       "\n",
       "       source  \n",
       "count   14204  \n",
       "unique      2  \n",
       "top     train  \n",
       "freq     8523  "
      ]
     },
     "execution_count": 6,
     "metadata": {},
     "output_type": "execute_result"
    }
   ],
   "source": [
    "data.describe(include=['O'])"
   ]
  },
  {
   "cell_type": "markdown",
   "metadata": {},
   "source": [
    "`Item_dentifier` has 1559 unique values.\n",
    "\n",
    "There are 16 types of `Item_Type`.\n",
    "\n",
    "`Outlet_Location_Type` has 3 unique locations. `Tier 1`, `Tier 2`, `Tier 3`\n",
    "\n",
    "`Outlet_Size` also has 3 different values."
   ]
  },
  {
   "cell_type": "markdown",
   "metadata": {},
   "source": [
    "**Getting Unique values of Categorical Variables**"
   ]
  },
  {
   "cell_type": "code",
   "execution_count": 7,
   "metadata": {},
   "outputs": [
    {
     "name": "stdout",
     "output_type": "stream",
     "text": [
      "['Item_Fat_Content', 'Item_Type', 'Outlet_Location_Type', 'Outlet_Size', 'Outlet_Type']\n"
     ]
    }
   ],
   "source": [
    "categorical_cols = [x for x in data.dtypes.index if data.dtypes[x]=='object' and x not in ['Item_Identifier','Outlet_Identifier','source']]\n",
    "print categorical_cols"
   ]
  },
  {
   "cell_type": "code",
   "execution_count": 8,
   "metadata": {},
   "outputs": [
    {
     "name": "stdout",
     "output_type": "stream",
     "text": [
      "In Item_Fat_Content\n",
      "Low Fat    8485\n",
      "Regular    4824\n",
      "LF          522\n",
      "reg         195\n",
      "low fat     178\n",
      "Name: Item_Fat_Content, dtype: int64\n",
      "------------------------\n",
      "In Item_Type\n",
      "Fruits and Vegetables    2013\n",
      "Snack Foods              1989\n",
      "Household                1548\n",
      "Frozen Foods             1426\n",
      "Dairy                    1136\n",
      "Baking Goods             1086\n",
      "Canned                   1084\n",
      "Health and Hygiene        858\n",
      "Meat                      736\n",
      "Soft Drinks               726\n",
      "Breads                    416\n",
      "Hard Drinks               362\n",
      "Others                    280\n",
      "Starchy Foods             269\n",
      "Breakfast                 186\n",
      "Seafood                    89\n",
      "Name: Item_Type, dtype: int64\n",
      "------------------------\n",
      "In Outlet_Location_Type\n",
      "Tier 3    5583\n",
      "Tier 2    4641\n",
      "Tier 1    3980\n",
      "Name: Outlet_Location_Type, dtype: int64\n",
      "------------------------\n",
      "In Outlet_Size\n",
      "Medium    4655\n",
      "Small     3980\n",
      "High      1553\n",
      "Name: Outlet_Size, dtype: int64\n",
      "------------------------\n",
      "In Outlet_Type\n",
      "Supermarket Type1    9294\n",
      "Grocery Store        1805\n",
      "Supermarket Type3    1559\n",
      "Supermarket Type2    1546\n",
      "Name: Outlet_Type, dtype: int64\n",
      "------------------------\n"
     ]
    }
   ],
   "source": [
    "for cols in categorical_cols:\n",
    "    print 'In %s' %(cols)\n",
    "    print data[cols].value_counts()\n",
    "    print '------------------------'"
   ]
  },
  {
   "cell_type": "markdown",
   "metadata": {},
   "source": [
    "1. **Item_Fat_Content**:\n",
    "    1. Some `Low Fat` are miscoded as `low fat` and `LF`\n",
    "    1. Similarly `Regular` are miscoded as `reg`\n",
    "\n",
    "2. **Item_Type**: May get good result in combining some of these categories"
   ]
  },
  {
   "cell_type": "markdown",
   "metadata": {},
   "source": [
    "## 3. Data Cleaning"
   ]
  },
  {
   "cell_type": "markdown",
   "metadata": {},
   "source": [
    "### Imputing Missing Values\n",
    "    1. Item_Weight\n",
    "    2. Outlet_Size"
   ]
  },
  {
   "cell_type": "code",
   "execution_count": 9,
   "metadata": {},
   "outputs": [],
   "source": [
    "## Imputing Item_Weight by average weight of particular Item.\n",
    "\n",
    "# data['Item_Weight'] = data.groupby('Item_Identifier').transform(lambda x: x.fillna(x.mean()))\n",
    "data.loc[data.Item_Weight.isnull(),'Item_Weight'] = data.groupby('Item_Identifier').transform('mean')"
   ]
  },
  {
   "cell_type": "code",
   "execution_count": 10,
   "metadata": {},
   "outputs": [
    {
     "data": {
      "text/plain": [
       "count    14204.000000\n",
       "mean        12.793380\n",
       "std          4.651716\n",
       "min          4.555000\n",
       "25%          8.710000\n",
       "50%         12.600000\n",
       "75%         16.750000\n",
       "max         21.350000\n",
       "Name: Item_Weight, dtype: float64"
      ]
     },
     "execution_count": 10,
     "metadata": {},
     "output_type": "execute_result"
    }
   ],
   "source": [
    "data.Item_Weight.describe()"
   ]
  },
  {
   "cell_type": "code",
   "execution_count": 11,
   "metadata": {},
   "outputs": [
    {
     "data": {
      "text/html": [
       "<div>\n",
       "<style>\n",
       "    .dataframe thead tr:only-child th {\n",
       "        text-align: right;\n",
       "    }\n",
       "\n",
       "    .dataframe thead th {\n",
       "        text-align: left;\n",
       "    }\n",
       "\n",
       "    .dataframe tbody tr th {\n",
       "        vertical-align: top;\n",
       "    }\n",
       "</style>\n",
       "<table border=\"1\" class=\"dataframe\">\n",
       "  <thead>\n",
       "    <tr style=\"text-align: right;\">\n",
       "      <th>Outlet_Type</th>\n",
       "      <th>Grocery Store</th>\n",
       "      <th>Supermarket Type1</th>\n",
       "      <th>Supermarket Type2</th>\n",
       "      <th>Supermarket Type3</th>\n",
       "    </tr>\n",
       "  </thead>\n",
       "  <tbody>\n",
       "    <tr>\n",
       "      <th>Outlet_Size</th>\n",
       "      <td>Small</td>\n",
       "      <td>Small</td>\n",
       "      <td>Medium</td>\n",
       "      <td>Medium</td>\n",
       "    </tr>\n",
       "  </tbody>\n",
       "</table>\n",
       "</div>"
      ],
      "text/plain": [
       "Outlet_Type Grocery Store Supermarket Type1 Supermarket Type2  \\\n",
       "Outlet_Size         Small             Small            Medium   \n",
       "\n",
       "Outlet_Type Supermarket Type3  \n",
       "Outlet_Size            Medium  "
      ]
     },
     "execution_count": 11,
     "metadata": {},
     "output_type": "execute_result"
    }
   ],
   "source": [
    "## Imputing Outlet_Size values by mode of Outlet_Size in that Outlet_Type Category\n",
    "data.pivot_table(values='Outlet_Size',columns='Outlet_Type', aggfunc=lambda x: x.mode()[0])"
   ]
  },
  {
   "cell_type": "code",
   "execution_count": 12,
   "metadata": {},
   "outputs": [],
   "source": [
    "data['Outlet_Size'].fillna(data.groupby('Outlet_Type')['Outlet_Size'].transform(lambda x: x.mode()[0]),inplace=True)"
   ]
  },
  {
   "cell_type": "code",
   "execution_count": 13,
   "metadata": {},
   "outputs": [
    {
     "data": {
      "text/plain": [
       "count     14204\n",
       "unique        3\n",
       "top       Small\n",
       "freq       7996\n",
       "Name: Outlet_Size, dtype: object"
      ]
     },
     "execution_count": 13,
     "metadata": {},
     "output_type": "execute_result"
    }
   ],
   "source": [
    "data.Outlet_Size.describe()"
   ]
  },
  {
   "cell_type": "markdown",
   "metadata": {},
   "source": [
    "## 4. Feature Engineering"
   ]
  },
  {
   "cell_type": "markdown",
   "metadata": {},
   "source": [
    "#### Combining `Outlet_Type`\n",
    "First to check if its OK to combine `Supermarket Type2` and `Supermarket Type3`.(If they are kind of same or not)"
   ]
  },
  {
   "cell_type": "code",
   "execution_count": 14,
   "metadata": {},
   "outputs": [
    {
     "data": {
      "text/html": [
       "<div>\n",
       "<style>\n",
       "    .dataframe thead tr:only-child th {\n",
       "        text-align: right;\n",
       "    }\n",
       "\n",
       "    .dataframe thead th {\n",
       "        text-align: left;\n",
       "    }\n",
       "\n",
       "    .dataframe tbody tr th {\n",
       "        vertical-align: top;\n",
       "    }\n",
       "</style>\n",
       "<table border=\"1\" class=\"dataframe\">\n",
       "  <thead>\n",
       "    <tr style=\"text-align: right;\">\n",
       "      <th></th>\n",
       "      <th>Item_Outlet_Sales</th>\n",
       "    </tr>\n",
       "    <tr>\n",
       "      <th>Outlet_Type</th>\n",
       "      <th></th>\n",
       "    </tr>\n",
       "  </thead>\n",
       "  <tbody>\n",
       "    <tr>\n",
       "      <th>Grocery Store</th>\n",
       "      <td>339.828500</td>\n",
       "    </tr>\n",
       "    <tr>\n",
       "      <th>Supermarket Type1</th>\n",
       "      <td>2316.181148</td>\n",
       "    </tr>\n",
       "    <tr>\n",
       "      <th>Supermarket Type2</th>\n",
       "      <td>1995.498739</td>\n",
       "    </tr>\n",
       "    <tr>\n",
       "      <th>Supermarket Type3</th>\n",
       "      <td>3694.038558</td>\n",
       "    </tr>\n",
       "  </tbody>\n",
       "</table>\n",
       "</div>"
      ],
      "text/plain": [
       "                   Item_Outlet_Sales\n",
       "Outlet_Type                         \n",
       "Grocery Store             339.828500\n",
       "Supermarket Type1        2316.181148\n",
       "Supermarket Type2        1995.498739\n",
       "Supermarket Type3        3694.038558"
      ]
     },
     "execution_count": 14,
     "metadata": {},
     "output_type": "execute_result"
    }
   ],
   "source": [
    "data.pivot_table(values='Item_Outlet_Sales',index='Outlet_Type')"
   ]
  },
  {
   "cell_type": "markdown",
   "metadata": {},
   "source": [
    "**NOPE!** Leave'em Alone!"
   ]
  },
  {
   "cell_type": "markdown",
   "metadata": {},
   "source": [
    "#### Correcting `Item_Visibility`\n",
    "The `0` values in it were suspicious. Treat them as `NaN`\n",
    "Filling them with Mean of the corrosponding product Identifiers"
   ]
  },
  {
   "cell_type": "code",
   "execution_count": 15,
   "metadata": {
    "scrolled": true
   },
   "outputs": [
    {
     "data": {
      "text/html": [
       "<div>\n",
       "<style>\n",
       "    .dataframe thead tr:only-child th {\n",
       "        text-align: right;\n",
       "    }\n",
       "\n",
       "    .dataframe thead th {\n",
       "        text-align: left;\n",
       "    }\n",
       "\n",
       "    .dataframe tbody tr th {\n",
       "        vertical-align: top;\n",
       "    }\n",
       "</style>\n",
       "<table border=\"1\" class=\"dataframe\">\n",
       "  <thead>\n",
       "    <tr style=\"text-align: right;\">\n",
       "      <th></th>\n",
       "      <th>Item_Visibility</th>\n",
       "    </tr>\n",
       "    <tr>\n",
       "      <th>Item_Identifier</th>\n",
       "      <th></th>\n",
       "    </tr>\n",
       "  </thead>\n",
       "  <tbody>\n",
       "    <tr>\n",
       "      <th>DRA12</th>\n",
       "      <td>0.034938</td>\n",
       "    </tr>\n",
       "    <tr>\n",
       "      <th>DRA24</th>\n",
       "      <td>0.045646</td>\n",
       "    </tr>\n",
       "    <tr>\n",
       "      <th>DRA59</th>\n",
       "      <td>0.133384</td>\n",
       "    </tr>\n",
       "    <tr>\n",
       "      <th>DRB01</th>\n",
       "      <td>0.079736</td>\n",
       "    </tr>\n",
       "    <tr>\n",
       "      <th>DRB13</th>\n",
       "      <td>0.006799</td>\n",
       "    </tr>\n",
       "    <tr>\n",
       "      <th>DRB24</th>\n",
       "      <td>0.020596</td>\n",
       "    </tr>\n",
       "    <tr>\n",
       "      <th>DRB25</th>\n",
       "      <td>0.079407</td>\n",
       "    </tr>\n",
       "    <tr>\n",
       "      <th>DRB48</th>\n",
       "      <td>0.023973</td>\n",
       "    </tr>\n",
       "    <tr>\n",
       "      <th>DRC01</th>\n",
       "      <td>0.020653</td>\n",
       "    </tr>\n",
       "    <tr>\n",
       "      <th>DRC12</th>\n",
       "      <td>0.037862</td>\n",
       "    </tr>\n",
       "    <tr>\n",
       "      <th>DRC13</th>\n",
       "      <td>0.028408</td>\n",
       "    </tr>\n",
       "    <tr>\n",
       "      <th>DRC24</th>\n",
       "      <td>0.026913</td>\n",
       "    </tr>\n",
       "    <tr>\n",
       "      <th>DRC25</th>\n",
       "      <td>0.047354</td>\n",
       "    </tr>\n",
       "    <tr>\n",
       "      <th>DRC27</th>\n",
       "      <td>0.066423</td>\n",
       "    </tr>\n",
       "    <tr>\n",
       "      <th>DRC36</th>\n",
       "      <td>0.046932</td>\n",
       "    </tr>\n",
       "    <tr>\n",
       "      <th>DRC49</th>\n",
       "      <td>0.070950</td>\n",
       "    </tr>\n",
       "    <tr>\n",
       "      <th>DRD01</th>\n",
       "      <td>0.066330</td>\n",
       "    </tr>\n",
       "    <tr>\n",
       "      <th>DRD12</th>\n",
       "      <td>0.074150</td>\n",
       "    </tr>\n",
       "    <tr>\n",
       "      <th>DRD13</th>\n",
       "      <td>0.049125</td>\n",
       "    </tr>\n",
       "    <tr>\n",
       "      <th>DRD15</th>\n",
       "      <td>0.064930</td>\n",
       "    </tr>\n",
       "    <tr>\n",
       "      <th>DRD24</th>\n",
       "      <td>0.035205</td>\n",
       "    </tr>\n",
       "    <tr>\n",
       "      <th>DRD25</th>\n",
       "      <td>0.082385</td>\n",
       "    </tr>\n",
       "    <tr>\n",
       "      <th>DRD27</th>\n",
       "      <td>0.020545</td>\n",
       "    </tr>\n",
       "    <tr>\n",
       "      <th>DRD37</th>\n",
       "      <td>0.013352</td>\n",
       "    </tr>\n",
       "    <tr>\n",
       "      <th>DRD49</th>\n",
       "      <td>0.167987</td>\n",
       "    </tr>\n",
       "    <tr>\n",
       "      <th>DRD60</th>\n",
       "      <td>0.040369</td>\n",
       "    </tr>\n",
       "    <tr>\n",
       "      <th>DRE01</th>\n",
       "      <td>0.179808</td>\n",
       "    </tr>\n",
       "    <tr>\n",
       "      <th>DRE03</th>\n",
       "      <td>0.026061</td>\n",
       "    </tr>\n",
       "    <tr>\n",
       "      <th>DRE12</th>\n",
       "      <td>0.061981</td>\n",
       "    </tr>\n",
       "    <tr>\n",
       "      <th>DRE13</th>\n",
       "      <td>0.031673</td>\n",
       "    </tr>\n",
       "    <tr>\n",
       "      <th>...</th>\n",
       "      <td>...</td>\n",
       "    </tr>\n",
       "    <tr>\n",
       "      <th>NCX05</th>\n",
       "      <td>0.110962</td>\n",
       "    </tr>\n",
       "    <tr>\n",
       "      <th>NCX06</th>\n",
       "      <td>0.017934</td>\n",
       "    </tr>\n",
       "    <tr>\n",
       "      <th>NCX17</th>\n",
       "      <td>0.113709</td>\n",
       "    </tr>\n",
       "    <tr>\n",
       "      <th>NCX18</th>\n",
       "      <td>0.008293</td>\n",
       "    </tr>\n",
       "    <tr>\n",
       "      <th>NCX29</th>\n",
       "      <td>0.101920</td>\n",
       "    </tr>\n",
       "    <tr>\n",
       "      <th>NCX30</th>\n",
       "      <td>0.025977</td>\n",
       "    </tr>\n",
       "    <tr>\n",
       "      <th>NCX41</th>\n",
       "      <td>0.017291</td>\n",
       "    </tr>\n",
       "    <tr>\n",
       "      <th>NCX42</th>\n",
       "      <td>0.006482</td>\n",
       "    </tr>\n",
       "    <tr>\n",
       "      <th>NCX53</th>\n",
       "      <td>0.014409</td>\n",
       "    </tr>\n",
       "    <tr>\n",
       "      <th>NCX54</th>\n",
       "      <td>0.051698</td>\n",
       "    </tr>\n",
       "    <tr>\n",
       "      <th>NCY05</th>\n",
       "      <td>0.059645</td>\n",
       "    </tr>\n",
       "    <tr>\n",
       "      <th>NCY06</th>\n",
       "      <td>0.065816</td>\n",
       "    </tr>\n",
       "    <tr>\n",
       "      <th>NCY17</th>\n",
       "      <td>0.126951</td>\n",
       "    </tr>\n",
       "    <tr>\n",
       "      <th>NCY18</th>\n",
       "      <td>0.033510</td>\n",
       "    </tr>\n",
       "    <tr>\n",
       "      <th>NCY29</th>\n",
       "      <td>0.088295</td>\n",
       "    </tr>\n",
       "    <tr>\n",
       "      <th>NCY30</th>\n",
       "      <td>0.028140</td>\n",
       "    </tr>\n",
       "    <tr>\n",
       "      <th>NCY41</th>\n",
       "      <td>0.086582</td>\n",
       "    </tr>\n",
       "    <tr>\n",
       "      <th>NCY42</th>\n",
       "      <td>0.016440</td>\n",
       "    </tr>\n",
       "    <tr>\n",
       "      <th>NCY53</th>\n",
       "      <td>0.056916</td>\n",
       "    </tr>\n",
       "    <tr>\n",
       "      <th>NCY54</th>\n",
       "      <td>0.191145</td>\n",
       "    </tr>\n",
       "    <tr>\n",
       "      <th>NCZ05</th>\n",
       "      <td>0.063030</td>\n",
       "    </tr>\n",
       "    <tr>\n",
       "      <th>NCZ06</th>\n",
       "      <td>0.102096</td>\n",
       "    </tr>\n",
       "    <tr>\n",
       "      <th>NCZ17</th>\n",
       "      <td>0.076568</td>\n",
       "    </tr>\n",
       "    <tr>\n",
       "      <th>NCZ18</th>\n",
       "      <td>0.180954</td>\n",
       "    </tr>\n",
       "    <tr>\n",
       "      <th>NCZ29</th>\n",
       "      <td>0.076774</td>\n",
       "    </tr>\n",
       "    <tr>\n",
       "      <th>NCZ30</th>\n",
       "      <td>0.027302</td>\n",
       "    </tr>\n",
       "    <tr>\n",
       "      <th>NCZ41</th>\n",
       "      <td>0.056396</td>\n",
       "    </tr>\n",
       "    <tr>\n",
       "      <th>NCZ42</th>\n",
       "      <td>0.011015</td>\n",
       "    </tr>\n",
       "    <tr>\n",
       "      <th>NCZ53</th>\n",
       "      <td>0.026330</td>\n",
       "    </tr>\n",
       "    <tr>\n",
       "      <th>NCZ54</th>\n",
       "      <td>0.081345</td>\n",
       "    </tr>\n",
       "  </tbody>\n",
       "</table>\n",
       "<p>1559 rows × 1 columns</p>\n",
       "</div>"
      ],
      "text/plain": [
       "                 Item_Visibility\n",
       "Item_Identifier                 \n",
       "DRA12                   0.034938\n",
       "DRA24                   0.045646\n",
       "DRA59                   0.133384\n",
       "DRB01                   0.079736\n",
       "DRB13                   0.006799\n",
       "DRB24                   0.020596\n",
       "DRB25                   0.079407\n",
       "DRB48                   0.023973\n",
       "DRC01                   0.020653\n",
       "DRC12                   0.037862\n",
       "DRC13                   0.028408\n",
       "DRC24                   0.026913\n",
       "DRC25                   0.047354\n",
       "DRC27                   0.066423\n",
       "DRC36                   0.046932\n",
       "DRC49                   0.070950\n",
       "DRD01                   0.066330\n",
       "DRD12                   0.074150\n",
       "DRD13                   0.049125\n",
       "DRD15                   0.064930\n",
       "DRD24                   0.035205\n",
       "DRD25                   0.082385\n",
       "DRD27                   0.020545\n",
       "DRD37                   0.013352\n",
       "DRD49                   0.167987\n",
       "DRD60                   0.040369\n",
       "DRE01                   0.179808\n",
       "DRE03                   0.026061\n",
       "DRE12                   0.061981\n",
       "DRE13                   0.031673\n",
       "...                          ...\n",
       "NCX05                   0.110962\n",
       "NCX06                   0.017934\n",
       "NCX17                   0.113709\n",
       "NCX18                   0.008293\n",
       "NCX29                   0.101920\n",
       "NCX30                   0.025977\n",
       "NCX41                   0.017291\n",
       "NCX42                   0.006482\n",
       "NCX53                   0.014409\n",
       "NCX54                   0.051698\n",
       "NCY05                   0.059645\n",
       "NCY06                   0.065816\n",
       "NCY17                   0.126951\n",
       "NCY18                   0.033510\n",
       "NCY29                   0.088295\n",
       "NCY30                   0.028140\n",
       "NCY41                   0.086582\n",
       "NCY42                   0.016440\n",
       "NCY53                   0.056916\n",
       "NCY54                   0.191145\n",
       "NCZ05                   0.063030\n",
       "NCZ06                   0.102096\n",
       "NCZ17                   0.076568\n",
       "NCZ18                   0.180954\n",
       "NCZ29                   0.076774\n",
       "NCZ30                   0.027302\n",
       "NCZ41                   0.056396\n",
       "NCZ42                   0.011015\n",
       "NCZ53                   0.026330\n",
       "NCZ54                   0.081345\n",
       "\n",
       "[1559 rows x 1 columns]"
      ]
     },
     "execution_count": 15,
     "metadata": {},
     "output_type": "execute_result"
    }
   ],
   "source": [
    "data.pivot_table(values='Item_Visibility',index='Item_Identifier')"
   ]
  },
  {
   "cell_type": "code",
   "execution_count": 16,
   "metadata": {},
   "outputs": [],
   "source": [
    "data.loc[data['Item_Visibility']==0,'Item_Visibility'] = data.groupby('Item_Identifier').transform('mean')"
   ]
  },
  {
   "cell_type": "code",
   "execution_count": 17,
   "metadata": {
    "scrolled": true
   },
   "outputs": [
    {
     "data": {
      "text/html": [
       "<div>\n",
       "<style>\n",
       "    .dataframe thead tr:only-child th {\n",
       "        text-align: right;\n",
       "    }\n",
       "\n",
       "    .dataframe thead th {\n",
       "        text-align: left;\n",
       "    }\n",
       "\n",
       "    .dataframe tbody tr th {\n",
       "        vertical-align: top;\n",
       "    }\n",
       "</style>\n",
       "<table border=\"1\" class=\"dataframe\">\n",
       "  <thead>\n",
       "    <tr style=\"text-align: right;\">\n",
       "      <th></th>\n",
       "      <th>Item_Visibility</th>\n",
       "    </tr>\n",
       "    <tr>\n",
       "      <th>Item_Identifier</th>\n",
       "      <th></th>\n",
       "    </tr>\n",
       "  </thead>\n",
       "  <tbody>\n",
       "    <tr>\n",
       "      <th>DRA12</th>\n",
       "      <td>0.042702</td>\n",
       "    </tr>\n",
       "    <tr>\n",
       "      <th>DRA24</th>\n",
       "      <td>0.045646</td>\n",
       "    </tr>\n",
       "    <tr>\n",
       "      <th>DRA59</th>\n",
       "      <td>0.146722</td>\n",
       "    </tr>\n",
       "    <tr>\n",
       "      <th>DRB01</th>\n",
       "      <td>0.089703</td>\n",
       "    </tr>\n",
       "    <tr>\n",
       "      <th>DRB13</th>\n",
       "      <td>0.007554</td>\n",
       "    </tr>\n",
       "    <tr>\n",
       "      <th>DRB24</th>\n",
       "      <td>0.020596</td>\n",
       "    </tr>\n",
       "    <tr>\n",
       "      <th>DRB25</th>\n",
       "      <td>0.079407</td>\n",
       "    </tr>\n",
       "    <tr>\n",
       "      <th>DRB48</th>\n",
       "      <td>0.026637</td>\n",
       "    </tr>\n",
       "    <tr>\n",
       "      <th>DRC01</th>\n",
       "      <td>0.020653</td>\n",
       "    </tr>\n",
       "    <tr>\n",
       "      <th>DRC12</th>\n",
       "      <td>0.037862</td>\n",
       "    </tr>\n",
       "    <tr>\n",
       "      <th>DRC13</th>\n",
       "      <td>0.031959</td>\n",
       "    </tr>\n",
       "    <tr>\n",
       "      <th>DRC24</th>\n",
       "      <td>0.026913</td>\n",
       "    </tr>\n",
       "    <tr>\n",
       "      <th>DRC25</th>\n",
       "      <td>0.052090</td>\n",
       "    </tr>\n",
       "    <tr>\n",
       "      <th>DRC27</th>\n",
       "      <td>0.066423</td>\n",
       "    </tr>\n",
       "    <tr>\n",
       "      <th>DRC36</th>\n",
       "      <td>0.051626</td>\n",
       "    </tr>\n",
       "    <tr>\n",
       "      <th>DRC49</th>\n",
       "      <td>0.070950</td>\n",
       "    </tr>\n",
       "    <tr>\n",
       "      <th>DRD01</th>\n",
       "      <td>0.066330</td>\n",
       "    </tr>\n",
       "    <tr>\n",
       "      <th>DRD12</th>\n",
       "      <td>0.083418</td>\n",
       "    </tr>\n",
       "    <tr>\n",
       "      <th>DRD13</th>\n",
       "      <td>0.049125</td>\n",
       "    </tr>\n",
       "    <tr>\n",
       "      <th>DRD15</th>\n",
       "      <td>0.064930</td>\n",
       "    </tr>\n",
       "    <tr>\n",
       "      <th>DRD24</th>\n",
       "      <td>0.035205</td>\n",
       "    </tr>\n",
       "    <tr>\n",
       "      <th>DRD25</th>\n",
       "      <td>0.090623</td>\n",
       "    </tr>\n",
       "    <tr>\n",
       "      <th>DRD27</th>\n",
       "      <td>0.025111</td>\n",
       "    </tr>\n",
       "    <tr>\n",
       "      <th>DRD37</th>\n",
       "      <td>0.014835</td>\n",
       "    </tr>\n",
       "    <tr>\n",
       "      <th>DRD49</th>\n",
       "      <td>0.167987</td>\n",
       "    </tr>\n",
       "    <tr>\n",
       "      <th>DRD60</th>\n",
       "      <td>0.040369</td>\n",
       "    </tr>\n",
       "    <tr>\n",
       "      <th>DRE01</th>\n",
       "      <td>0.179808</td>\n",
       "    </tr>\n",
       "    <tr>\n",
       "      <th>DRE03</th>\n",
       "      <td>0.026061</td>\n",
       "    </tr>\n",
       "    <tr>\n",
       "      <th>DRE12</th>\n",
       "      <td>0.069729</td>\n",
       "    </tr>\n",
       "    <tr>\n",
       "      <th>DRE13</th>\n",
       "      <td>0.031673</td>\n",
       "    </tr>\n",
       "    <tr>\n",
       "      <th>...</th>\n",
       "      <td>...</td>\n",
       "    </tr>\n",
       "    <tr>\n",
       "      <th>NCX05</th>\n",
       "      <td>0.110962</td>\n",
       "    </tr>\n",
       "    <tr>\n",
       "      <th>NCX06</th>\n",
       "      <td>0.017934</td>\n",
       "    </tr>\n",
       "    <tr>\n",
       "      <th>NCX17</th>\n",
       "      <td>0.113709</td>\n",
       "    </tr>\n",
       "    <tr>\n",
       "      <th>NCX18</th>\n",
       "      <td>0.009952</td>\n",
       "    </tr>\n",
       "    <tr>\n",
       "      <th>NCX29</th>\n",
       "      <td>0.101920</td>\n",
       "    </tr>\n",
       "    <tr>\n",
       "      <th>NCX30</th>\n",
       "      <td>0.028575</td>\n",
       "    </tr>\n",
       "    <tr>\n",
       "      <th>NCX41</th>\n",
       "      <td>0.019020</td>\n",
       "    </tr>\n",
       "    <tr>\n",
       "      <th>NCX42</th>\n",
       "      <td>0.006482</td>\n",
       "    </tr>\n",
       "    <tr>\n",
       "      <th>NCX53</th>\n",
       "      <td>0.016010</td>\n",
       "    </tr>\n",
       "    <tr>\n",
       "      <th>NCX54</th>\n",
       "      <td>0.051698</td>\n",
       "    </tr>\n",
       "    <tr>\n",
       "      <th>NCY05</th>\n",
       "      <td>0.059645</td>\n",
       "    </tr>\n",
       "    <tr>\n",
       "      <th>NCY06</th>\n",
       "      <td>0.065816</td>\n",
       "    </tr>\n",
       "    <tr>\n",
       "      <th>NCY17</th>\n",
       "      <td>0.155162</td>\n",
       "    </tr>\n",
       "    <tr>\n",
       "      <th>NCY18</th>\n",
       "      <td>0.033510</td>\n",
       "    </tr>\n",
       "    <tr>\n",
       "      <th>NCY29</th>\n",
       "      <td>0.088295</td>\n",
       "    </tr>\n",
       "    <tr>\n",
       "      <th>NCY30</th>\n",
       "      <td>0.028140</td>\n",
       "    </tr>\n",
       "    <tr>\n",
       "      <th>NCY41</th>\n",
       "      <td>0.086582</td>\n",
       "    </tr>\n",
       "    <tr>\n",
       "      <th>NCY42</th>\n",
       "      <td>0.016440</td>\n",
       "    </tr>\n",
       "    <tr>\n",
       "      <th>NCY53</th>\n",
       "      <td>0.063240</td>\n",
       "    </tr>\n",
       "    <tr>\n",
       "      <th>NCY54</th>\n",
       "      <td>0.191145</td>\n",
       "    </tr>\n",
       "    <tr>\n",
       "      <th>NCZ05</th>\n",
       "      <td>0.063030</td>\n",
       "    </tr>\n",
       "    <tr>\n",
       "      <th>NCZ06</th>\n",
       "      <td>0.102096</td>\n",
       "    </tr>\n",
       "    <tr>\n",
       "      <th>NCZ17</th>\n",
       "      <td>0.085076</td>\n",
       "    </tr>\n",
       "    <tr>\n",
       "      <th>NCZ18</th>\n",
       "      <td>0.201060</td>\n",
       "    </tr>\n",
       "    <tr>\n",
       "      <th>NCZ29</th>\n",
       "      <td>0.076774</td>\n",
       "    </tr>\n",
       "    <tr>\n",
       "      <th>NCZ30</th>\n",
       "      <td>0.030032</td>\n",
       "    </tr>\n",
       "    <tr>\n",
       "      <th>NCZ41</th>\n",
       "      <td>0.063445</td>\n",
       "    </tr>\n",
       "    <tr>\n",
       "      <th>NCZ42</th>\n",
       "      <td>0.012117</td>\n",
       "    </tr>\n",
       "    <tr>\n",
       "      <th>NCZ53</th>\n",
       "      <td>0.026330</td>\n",
       "    </tr>\n",
       "    <tr>\n",
       "      <th>NCZ54</th>\n",
       "      <td>0.089479</td>\n",
       "    </tr>\n",
       "  </tbody>\n",
       "</table>\n",
       "<p>1559 rows × 1 columns</p>\n",
       "</div>"
      ],
      "text/plain": [
       "                 Item_Visibility\n",
       "Item_Identifier                 \n",
       "DRA12                   0.042702\n",
       "DRA24                   0.045646\n",
       "DRA59                   0.146722\n",
       "DRB01                   0.089703\n",
       "DRB13                   0.007554\n",
       "DRB24                   0.020596\n",
       "DRB25                   0.079407\n",
       "DRB48                   0.026637\n",
       "DRC01                   0.020653\n",
       "DRC12                   0.037862\n",
       "DRC13                   0.031959\n",
       "DRC24                   0.026913\n",
       "DRC25                   0.052090\n",
       "DRC27                   0.066423\n",
       "DRC36                   0.051626\n",
       "DRC49                   0.070950\n",
       "DRD01                   0.066330\n",
       "DRD12                   0.083418\n",
       "DRD13                   0.049125\n",
       "DRD15                   0.064930\n",
       "DRD24                   0.035205\n",
       "DRD25                   0.090623\n",
       "DRD27                   0.025111\n",
       "DRD37                   0.014835\n",
       "DRD49                   0.167987\n",
       "DRD60                   0.040369\n",
       "DRE01                   0.179808\n",
       "DRE03                   0.026061\n",
       "DRE12                   0.069729\n",
       "DRE13                   0.031673\n",
       "...                          ...\n",
       "NCX05                   0.110962\n",
       "NCX06                   0.017934\n",
       "NCX17                   0.113709\n",
       "NCX18                   0.009952\n",
       "NCX29                   0.101920\n",
       "NCX30                   0.028575\n",
       "NCX41                   0.019020\n",
       "NCX42                   0.006482\n",
       "NCX53                   0.016010\n",
       "NCX54                   0.051698\n",
       "NCY05                   0.059645\n",
       "NCY06                   0.065816\n",
       "NCY17                   0.155162\n",
       "NCY18                   0.033510\n",
       "NCY29                   0.088295\n",
       "NCY30                   0.028140\n",
       "NCY41                   0.086582\n",
       "NCY42                   0.016440\n",
       "NCY53                   0.063240\n",
       "NCY54                   0.191145\n",
       "NCZ05                   0.063030\n",
       "NCZ06                   0.102096\n",
       "NCZ17                   0.085076\n",
       "NCZ18                   0.201060\n",
       "NCZ29                   0.076774\n",
       "NCZ30                   0.030032\n",
       "NCZ41                   0.063445\n",
       "NCZ42                   0.012117\n",
       "NCZ53                   0.026330\n",
       "NCZ54                   0.089479\n",
       "\n",
       "[1559 rows x 1 columns]"
      ]
     },
     "execution_count": 17,
     "metadata": {},
     "output_type": "execute_result"
    }
   ],
   "source": [
    "data.pivot_table(values='Item_Visibility', index='Item_Identifier')"
   ]
  },
  {
   "cell_type": "markdown",
   "metadata": {},
   "source": [
    "#### Creating new Variable\n",
    "\n",
    "Getting ratio of Item_Visibility on a particular store with overall average.\n",
    "\n",
    "Helps us determining on importance to the product in that particular store"
   ]
  },
  {
   "cell_type": "code",
   "execution_count": 18,
   "metadata": {
    "scrolled": true
   },
   "outputs": [],
   "source": [
    "visibility_avg = pd.pivot_table(data,values=['Item_Visibility'],index=['Item_Identifier'])"
   ]
  },
  {
   "cell_type": "code",
   "execution_count": 19,
   "metadata": {},
   "outputs": [
    {
     "name": "stdout",
     "output_type": "stream",
     "text": [
      "count    14204.000000\n",
      "mean         1.000000\n",
      "std          0.207021\n",
      "min          0.600000\n",
      "25%          0.879677\n",
      "50%          0.928859\n",
      "75%          0.999070\n",
      "max          1.806056\n",
      "Name: Item_Visibility_MeanRatio, dtype: float64\n"
     ]
    }
   ],
   "source": [
    "#Determine another variable with means ratio\n",
    "data['Item_Visibility_MeanRatio'] = data.apply(lambda x: x['Item_Visibility']/visibility_avg.loc[x['Item_Identifier']][0], axis=1)\n",
    "print data['Item_Visibility_MeanRatio'].describe()"
   ]
  },
  {
   "cell_type": "markdown",
   "metadata": {},
   "source": [
    "####  Creating a new Broad Catagory of `Item_Type`\n"
   ]
  },
  {
   "cell_type": "code",
   "execution_count": 21,
   "metadata": {},
   "outputs": [
    {
     "data": {
      "text/plain": [
       "array(['FD', 'DR', 'NC'], dtype=object)"
      ]
     },
     "execution_count": 21,
     "metadata": {},
     "output_type": "execute_result"
    }
   ],
   "source": [
    "data.Item_Identifier.apply(lambda x: x[0:2]).unique()"
   ]
  },
  {
   "cell_type": "markdown",
   "metadata": {},
   "source": [
    "These Categories may be `FD=>Food`, `DR=>Drink`, `NC=>Non-Consumables`"
   ]
  },
  {
   "cell_type": "code",
   "execution_count": 24,
   "metadata": {},
   "outputs": [],
   "source": [
    "data['Item_Type_Combined'] = data['Item_Identifier'].apply(lambda x: x[0:2])"
   ]
  },
  {
   "cell_type": "code",
   "execution_count": 25,
   "metadata": {},
   "outputs": [
    {
     "data": {
      "text/plain": [
       "FD    10201\n",
       "NC     2686\n",
       "DR     1317\n",
       "Name: Item_Type_Combined, dtype: int64"
      ]
     },
     "execution_count": 25,
     "metadata": {},
     "output_type": "execute_result"
    }
   ],
   "source": [
    "data.Item_Type_Combined.value_counts()"
   ]
  },
  {
   "cell_type": "markdown",
   "metadata": {},
   "source": [
    "#### Determining Age of Store"
   ]
  },
  {
   "cell_type": "code",
   "execution_count": 27,
   "metadata": {},
   "outputs": [
    {
     "data": {
      "text/plain": [
       "count    14204.000000\n",
       "mean        15.169319\n",
       "std          8.371664\n",
       "min          4.000000\n",
       "25%          9.000000\n",
       "50%         14.000000\n",
       "75%         26.000000\n",
       "max         28.000000\n",
       "Name: Outlet_Years, dtype: float64"
      ]
     },
     "execution_count": 27,
     "metadata": {},
     "output_type": "execute_result"
    }
   ],
   "source": [
    "data['Outlet_Years'] = 2013 - data['Outlet_Establishment_Year']\n",
    "data.Outlet_Years.describe()"
   ]
  },
  {
   "cell_type": "markdown",
   "metadata": {},
   "source": [
    "####  Correcting Labels of Item_Fat_Content"
   ]
  },
  {
   "cell_type": "code",
   "execution_count": 28,
   "metadata": {},
   "outputs": [],
   "source": [
    "data['Item_Fat_Content'] = data['Item_Fat_Content'].replace({'LF':'Low Fat',\n",
    "                                                           'reg':'Regular',\n",
    "                                                            'low fat':'Low Fat'})"
   ]
  },
  {
   "cell_type": "code",
   "execution_count": 29,
   "metadata": {},
   "outputs": [
    {
     "data": {
      "text/plain": [
       "Low Fat    9185\n",
       "Regular    5019\n",
       "Name: Item_Fat_Content, dtype: int64"
      ]
     },
     "execution_count": 29,
     "metadata": {},
     "output_type": "execute_result"
    }
   ],
   "source": [
    "data.Item_Fat_Content.value_counts()"
   ]
  },
  {
   "cell_type": "markdown",
   "metadata": {},
   "source": [
    "But for `Non-Consumables` Item Types, fat content couldn't be specified"
   ]
  },
  {
   "cell_type": "code",
   "execution_count": 31,
   "metadata": {},
   "outputs": [],
   "source": [
    "data.loc[data['Item_Type_Combined']=='NC','Item_Fat_Content'] = 'Non-Edible'"
   ]
  },
  {
   "cell_type": "code",
   "execution_count": 32,
   "metadata": {},
   "outputs": [
    {
     "data": {
      "text/plain": [
       "Low Fat       6499\n",
       "Regular       5019\n",
       "Non-Edible    2686\n",
       "Name: Item_Fat_Content, dtype: int64"
      ]
     },
     "execution_count": 32,
     "metadata": {},
     "output_type": "execute_result"
    }
   ],
   "source": [
    "data.Item_Fat_Content.value_counts()"
   ]
  },
  {
   "cell_type": "markdown",
   "metadata": {},
   "source": [
    "### One-Hot Encoding of Categorical variables"
   ]
  },
  {
   "cell_type": "code",
   "execution_count": 33,
   "metadata": {},
   "outputs": [],
   "source": [
    "from sklearn.preprocessing import LabelEncoder"
   ]
  },
  {
   "cell_type": "code",
   "execution_count": 34,
   "metadata": {},
   "outputs": [],
   "source": [
    "le = LabelEncoder()\n"
   ]
  },
  {
   "cell_type": "code",
   "execution_count": 35,
   "metadata": {},
   "outputs": [],
   "source": [
    "data['Outlet'] = le.fit_transform(data['Outlet_Identifier'])"
   ]
  },
  {
   "cell_type": "code",
   "execution_count": 37,
   "metadata": {},
   "outputs": [],
   "source": [
    "var_mod = ['Item_Fat_Content','Outlet_Location_Type','Outlet_Size','Item_Type_Combined','Outlet_Type','Outlet']\n",
    "\n",
    "for i in var_mod:\n",
    "    data[i] = le.fit_transform(data[i])"
   ]
  },
  {
   "cell_type": "code",
   "execution_count": 38,
   "metadata": {},
   "outputs": [
    {
     "data": {
      "text/html": [
       "<div>\n",
       "<style>\n",
       "    .dataframe thead tr:only-child th {\n",
       "        text-align: right;\n",
       "    }\n",
       "\n",
       "    .dataframe thead th {\n",
       "        text-align: left;\n",
       "    }\n",
       "\n",
       "    .dataframe tbody tr th {\n",
       "        vertical-align: top;\n",
       "    }\n",
       "</style>\n",
       "<table border=\"1\" class=\"dataframe\">\n",
       "  <thead>\n",
       "    <tr style=\"text-align: right;\">\n",
       "      <th></th>\n",
       "      <th>Item_Fat_Content</th>\n",
       "      <th>Item_Identifier</th>\n",
       "      <th>Item_MRP</th>\n",
       "      <th>Item_Outlet_Sales</th>\n",
       "      <th>Item_Type</th>\n",
       "      <th>Item_Visibility</th>\n",
       "      <th>Item_Weight</th>\n",
       "      <th>Outlet_Establishment_Year</th>\n",
       "      <th>Outlet_Identifier</th>\n",
       "      <th>Outlet_Location_Type</th>\n",
       "      <th>Outlet_Size</th>\n",
       "      <th>Outlet_Type</th>\n",
       "      <th>source</th>\n",
       "      <th>Item_Visibility_MeanRatio</th>\n",
       "      <th>Item_Type_Combined</th>\n",
       "      <th>Outlet_Years</th>\n",
       "      <th>Outlet</th>\n",
       "    </tr>\n",
       "  </thead>\n",
       "  <tbody>\n",
       "    <tr>\n",
       "      <th>0</th>\n",
       "      <td>0</td>\n",
       "      <td>FDA15</td>\n",
       "      <td>249.8092</td>\n",
       "      <td>3735.1380</td>\n",
       "      <td>Dairy</td>\n",
       "      <td>0.016047</td>\n",
       "      <td>9.30</td>\n",
       "      <td>1999</td>\n",
       "      <td>OUT049</td>\n",
       "      <td>0</td>\n",
       "      <td>1</td>\n",
       "      <td>1</td>\n",
       "      <td>train</td>\n",
       "      <td>0.931078</td>\n",
       "      <td>1</td>\n",
       "      <td>14</td>\n",
       "      <td>9</td>\n",
       "    </tr>\n",
       "    <tr>\n",
       "      <th>1</th>\n",
       "      <td>2</td>\n",
       "      <td>DRC01</td>\n",
       "      <td>48.2692</td>\n",
       "      <td>443.4228</td>\n",
       "      <td>Soft Drinks</td>\n",
       "      <td>0.019278</td>\n",
       "      <td>5.92</td>\n",
       "      <td>2009</td>\n",
       "      <td>OUT018</td>\n",
       "      <td>2</td>\n",
       "      <td>1</td>\n",
       "      <td>2</td>\n",
       "      <td>train</td>\n",
       "      <td>0.933420</td>\n",
       "      <td>0</td>\n",
       "      <td>4</td>\n",
       "      <td>3</td>\n",
       "    </tr>\n",
       "    <tr>\n",
       "      <th>2</th>\n",
       "      <td>0</td>\n",
       "      <td>FDN15</td>\n",
       "      <td>141.6180</td>\n",
       "      <td>2097.2700</td>\n",
       "      <td>Meat</td>\n",
       "      <td>0.016760</td>\n",
       "      <td>17.50</td>\n",
       "      <td>1999</td>\n",
       "      <td>OUT049</td>\n",
       "      <td>0</td>\n",
       "      <td>1</td>\n",
       "      <td>1</td>\n",
       "      <td>train</td>\n",
       "      <td>0.872790</td>\n",
       "      <td>1</td>\n",
       "      <td>14</td>\n",
       "      <td>9</td>\n",
       "    </tr>\n",
       "    <tr>\n",
       "      <th>3</th>\n",
       "      <td>2</td>\n",
       "      <td>FDX07</td>\n",
       "      <td>182.0950</td>\n",
       "      <td>732.3800</td>\n",
       "      <td>Fruits and Vegetables</td>\n",
       "      <td>0.017834</td>\n",
       "      <td>19.20</td>\n",
       "      <td>1998</td>\n",
       "      <td>OUT010</td>\n",
       "      <td>2</td>\n",
       "      <td>2</td>\n",
       "      <td>0</td>\n",
       "      <td>train</td>\n",
       "      <td>0.818182</td>\n",
       "      <td>1</td>\n",
       "      <td>15</td>\n",
       "      <td>0</td>\n",
       "    </tr>\n",
       "    <tr>\n",
       "      <th>4</th>\n",
       "      <td>1</td>\n",
       "      <td>NCD19</td>\n",
       "      <td>53.8614</td>\n",
       "      <td>994.7052</td>\n",
       "      <td>Household</td>\n",
       "      <td>0.009780</td>\n",
       "      <td>8.93</td>\n",
       "      <td>1987</td>\n",
       "      <td>OUT013</td>\n",
       "      <td>2</td>\n",
       "      <td>0</td>\n",
       "      <td>1</td>\n",
       "      <td>train</td>\n",
       "      <td>0.750000</td>\n",
       "      <td>2</td>\n",
       "      <td>26</td>\n",
       "      <td>1</td>\n",
       "    </tr>\n",
       "  </tbody>\n",
       "</table>\n",
       "</div>"
      ],
      "text/plain": [
       "   Item_Fat_Content Item_Identifier  Item_MRP  Item_Outlet_Sales  \\\n",
       "0                 0           FDA15  249.8092          3735.1380   \n",
       "1                 2           DRC01   48.2692           443.4228   \n",
       "2                 0           FDN15  141.6180          2097.2700   \n",
       "3                 2           FDX07  182.0950           732.3800   \n",
       "4                 1           NCD19   53.8614           994.7052   \n",
       "\n",
       "               Item_Type  Item_Visibility  Item_Weight  \\\n",
       "0                  Dairy         0.016047         9.30   \n",
       "1            Soft Drinks         0.019278         5.92   \n",
       "2                   Meat         0.016760        17.50   \n",
       "3  Fruits and Vegetables         0.017834        19.20   \n",
       "4              Household         0.009780         8.93   \n",
       "\n",
       "   Outlet_Establishment_Year Outlet_Identifier  Outlet_Location_Type  \\\n",
       "0                       1999            OUT049                     0   \n",
       "1                       2009            OUT018                     2   \n",
       "2                       1999            OUT049                     0   \n",
       "3                       1998            OUT010                     2   \n",
       "4                       1987            OUT013                     2   \n",
       "\n",
       "   Outlet_Size  Outlet_Type source  Item_Visibility_MeanRatio  \\\n",
       "0            1            1  train                   0.931078   \n",
       "1            1            2  train                   0.933420   \n",
       "2            1            1  train                   0.872790   \n",
       "3            2            0  train                   0.818182   \n",
       "4            0            1  train                   0.750000   \n",
       "\n",
       "   Item_Type_Combined  Outlet_Years  Outlet  \n",
       "0                   1            14       9  \n",
       "1                   0             4       3  \n",
       "2                   1            14       9  \n",
       "3                   1            15       0  \n",
       "4                   2            26       1  "
      ]
     },
     "execution_count": 38,
     "metadata": {},
     "output_type": "execute_result"
    }
   ],
   "source": [
    "data.head()"
   ]
  },
  {
   "cell_type": "code",
   "execution_count": 39,
   "metadata": {},
   "outputs": [],
   "source": [
    "data = pd.get_dummies(data, columns=var_mod)"
   ]
  },
  {
   "cell_type": "code",
   "execution_count": 40,
   "metadata": {},
   "outputs": [
    {
     "name": "stdout",
     "output_type": "stream",
     "text": [
      "<class 'pandas.core.frame.DataFrame'>\n",
      "RangeIndex: 14204 entries, 0 to 14203\n",
      "Data columns (total 37 columns):\n",
      "Item_Identifier              14204 non-null object\n",
      "Item_MRP                     14204 non-null float64\n",
      "Item_Outlet_Sales            8523 non-null float64\n",
      "Item_Type                    14204 non-null object\n",
      "Item_Visibility              14204 non-null float64\n",
      "Item_Weight                  14204 non-null float64\n",
      "Outlet_Establishment_Year    14204 non-null int64\n",
      "Outlet_Identifier            14204 non-null object\n",
      "source                       14204 non-null object\n",
      "Item_Visibility_MeanRatio    14204 non-null float64\n",
      "Outlet_Years                 14204 non-null int64\n",
      "Item_Fat_Content_0           14204 non-null uint8\n",
      "Item_Fat_Content_1           14204 non-null uint8\n",
      "Item_Fat_Content_2           14204 non-null uint8\n",
      "Outlet_Location_Type_0       14204 non-null uint8\n",
      "Outlet_Location_Type_1       14204 non-null uint8\n",
      "Outlet_Location_Type_2       14204 non-null uint8\n",
      "Outlet_Size_0                14204 non-null uint8\n",
      "Outlet_Size_1                14204 non-null uint8\n",
      "Outlet_Size_2                14204 non-null uint8\n",
      "Item_Type_Combined_0         14204 non-null uint8\n",
      "Item_Type_Combined_1         14204 non-null uint8\n",
      "Item_Type_Combined_2         14204 non-null uint8\n",
      "Outlet_Type_0                14204 non-null uint8\n",
      "Outlet_Type_1                14204 non-null uint8\n",
      "Outlet_Type_2                14204 non-null uint8\n",
      "Outlet_Type_3                14204 non-null uint8\n",
      "Outlet_0                     14204 non-null uint8\n",
      "Outlet_1                     14204 non-null uint8\n",
      "Outlet_2                     14204 non-null uint8\n",
      "Outlet_3                     14204 non-null uint8\n",
      "Outlet_4                     14204 non-null uint8\n",
      "Outlet_5                     14204 non-null uint8\n",
      "Outlet_6                     14204 non-null uint8\n",
      "Outlet_7                     14204 non-null uint8\n",
      "Outlet_8                     14204 non-null uint8\n",
      "Outlet_9                     14204 non-null uint8\n",
      "dtypes: float64(5), int64(2), object(4), uint8(26)\n",
      "memory usage: 1.5+ MB\n"
     ]
    }
   ],
   "source": [
    "data.info()"
   ]
  },
  {
   "cell_type": "code",
   "execution_count": null,
   "metadata": {},
   "outputs": [],
   "source": []
  }
 ],
 "metadata": {
  "kernelspec": {
   "display_name": "Python 2",
   "language": "python",
   "name": "python2"
  },
  "language_info": {
   "codemirror_mode": {
    "name": "ipython",
    "version": 2
   },
   "file_extension": ".py",
   "mimetype": "text/x-python",
   "name": "python",
   "nbconvert_exporter": "python",
   "pygments_lexer": "ipython2",
   "version": "2.7.14"
  }
 },
 "nbformat": 4,
 "nbformat_minor": 2
}
